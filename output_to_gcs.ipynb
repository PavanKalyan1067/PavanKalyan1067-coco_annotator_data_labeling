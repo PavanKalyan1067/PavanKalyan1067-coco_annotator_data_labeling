{
 "cells": [
  {
   "cell_type": "code",
   "execution_count": 2,
   "metadata": {},
   "outputs": [
    {
     "name": "stdout",
     "output_type": "stream",
     "text": [
      "Uploaded file: Vehicle image-11.json to GCS: coco_json_output_of_vehicle_images/Vehicle image-11.json\n",
      "Upload completed.\n"
     ]
    }
   ],
   "source": [
    "from google.cloud import storage\n",
    "\n",
    "def upload_files_to_gcs(bucket_name, local_files, remote_directory):\n",
    "    \"\"\"Uploads multiple files to a specified GCS bucket.\"\"\"\n",
    "    Client = storage.Client.from_service_account_json(json_credentials_path='elevated-column-383306-2621b634ed67.json')\n",
    "\n",
    "    # storage_client = storage.Client()\n",
    "    bucket = Client.bucket(bucket_name)\n",
    "    \n",
    "    for local_file in local_files:\n",
    "        blob_name = f\"{remote_directory}/{local_file}\"\n",
    "        blob = bucket.blob(blob_name)\n",
    "        blob.upload_from_filename(local_file)\n",
    "        \n",
    "        print(f\"Uploaded file: {local_file} to GCS: {blob_name}\")\n",
    "    \n",
    "    print(\"Upload completed.\")\n",
    "\n",
    "# Specify the GCS bucket name\n",
    "bucket_name = \"processingcocojsonfile\"\n",
    "\n",
    "# Specify the local files to upload\n",
    "local_files = [\n",
    "'Vehicle image-11.json'\n",
    "]\n",
    "\n",
    "# Specify the remote directory in the GCS bucket\n",
    "remote_directory = \"coco_json_output_of_vehicle_images\"\n",
    "\n",
    "# Call the function to upload files to GCS\n",
    "upload_files_to_gcs(bucket_name, local_files, remote_directory)\n"
   ]
  }
 ],
 "metadata": {
  "kernelspec": {
   "display_name": "myvenv",
   "language": "python",
   "name": "python3"
  },
  "language_info": {
   "codemirror_mode": {
    "name": "ipython",
    "version": 3
   },
   "file_extension": ".py",
   "mimetype": "text/x-python",
   "name": "python",
   "nbconvert_exporter": "python",
   "pygments_lexer": "ipython3",
   "version": "3.10.11"
  },
  "orig_nbformat": 4
 },
 "nbformat": 4,
 "nbformat_minor": 2
}
